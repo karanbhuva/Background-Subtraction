{
 "cells": [
  {
   "cell_type": "code",
   "execution_count": 41,
   "metadata": {},
   "outputs": [],
   "source": [
    "import cv2\n",
    "import numpy as np"
   ]
  },
  {
   "cell_type": "markdown",
   "metadata": {},
   "source": [
    "# Read video\n"
   ]
  },
  {
   "cell_type": "code",
   "execution_count": 42,
   "metadata": {},
   "outputs": [],
   "source": [
    "cap = cv2.VideoCapture(\"highway.mp4\")"
   ]
  },
  {
   "cell_type": "code",
   "execution_count": 43,
   "metadata": {},
   "outputs": [],
   "source": [
    "kernel = np.ones((3,3),np.uint8)\n",
    "try:\n",
    "    while True:\n",
    "        \n",
    "        #Change window size\n",
    "        cv2.namedWindow('frame:',cv2.WINDOW_NORMAL)\n",
    "        cv2.resizeWindow('frame:', 400,400)\n",
    "        cv2.namedWindow('frame difference:',cv2.WINDOW_NORMAL)\n",
    "        cv2.resizeWindow('frame difference:', 400,400)\n",
    "        \n",
    "        # Read First frame\n",
    "        _,frame=cap.read()\n",
    "        gray_frame=cv2.cvtColor(frame,cv2.COLOR_BGR2GRAY)\n",
    "        \n",
    "        # Read Second frame\n",
    "        _,frame1=cap.read()\n",
    "        gray_frame1=cv2.cvtColor(frame1,cv2.COLOR_BGR2GRAY)\n",
    "        \n",
    "        #Find absolute difference between first frame and second frame\n",
    "        difference=cv2.absdiff(gray_frame1,gray_frame)\n",
    "        _,difference=cv2.threshold(difference,25,255,cv2.THRESH_BINARY)\n",
    "        difference = cv2.morphologyEx(difference,cv2.MORPH_OPEN, kernel)\n",
    "\n",
    "        \n",
    "        cv2.imshow('frame:',frame)\n",
    "        cv2.imshow('frame difference:',difference)\n",
    "      \n",
    "        key=cv2.waitKey(1)\n",
    "        if key & 0xFF == ord('p'): #quit if key p is pressed\n",
    "            break\n",
    "    cap.release()\n",
    "    cv2.destroyAllWindows()\n",
    "except:\n",
    "    cap.release()\n",
    "    cv2.destroyAllWindows()\n"
   ]
  },
  {
   "cell_type": "markdown",
   "metadata": {},
   "source": []
  }
 ],
 "metadata": {
  "kernelspec": {
   "display_name": "Python 3",
   "language": "python",
   "name": "python3"
  },
  "language_info": {
   "codemirror_mode": {
    "name": "ipython",
    "version": 3
   },
   "file_extension": ".py",
   "mimetype": "text/x-python",
   "name": "python",
   "nbconvert_exporter": "python",
   "pygments_lexer": "ipython3",
   "version": "3.6.10"
  }
 },
 "nbformat": 4,
 "nbformat_minor": 4
}
