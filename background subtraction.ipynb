{
 "cells": [
  {
   "cell_type": "code",
   "execution_count": 3,
   "metadata": {},
   "outputs": [],
   "source": [
    "import cv2\n",
    "import numpy as np"
   ]
  },
  {
   "cell_type": "markdown",
   "metadata": {},
   "source": [
    "# Read video and background image"
   ]
  },
  {
   "cell_type": "code",
   "execution_count": 9,
   "metadata": {},
   "outputs": [],
   "source": [
    "cap = cv2.VideoCapture(\"highway.mp4\")\n",
    "\n",
    "background=cv2.imread(\"highway clean.png\")\n",
    "background_gray=cv2.cvtColor(background,cv2.COLOR_BGR2GRAY)\n",
    "kernel = np.ones((3,3),np.uint8)\n"
   ]
  },
  {
   "cell_type": "code",
   "execution_count": 10,
   "metadata": {},
   "outputs": [],
   "source": [
    "try:\n",
    "    while True:\n",
    "        #Change window size\n",
    "        cv2.namedWindow('frame:',cv2.WINDOW_NORMAL)\n",
    "        cv2.resizeWindow('frame:', 400,400)\n",
    "        cv2.namedWindow('background:',cv2.WINDOW_NORMAL)\n",
    "        cv2.resizeWindow('background:', 400,400)\n",
    "        cv2.namedWindow('background difference:',cv2.WINDOW_NORMAL)\n",
    "        cv2.resizeWindow('background difference:',400,400)\n",
    "        \n",
    "        #Read one frame\n",
    "        _,frame=cap.read()\n",
    "        gray_frame=cv2.cvtColor(frame,cv2.COLOR_BGR2GRAY)\n",
    "\n",
    "        #Find absolute difference between background image and frame\n",
    "        difference2=cv2.absdiff(gray_frame,background_gray)\n",
    "        _,difference2=cv2.threshold(difference2,25,255,cv2.THRESH_BINARY)\n",
    "        difference2 = cv2.morphologyEx(difference2, cv2.MORPH_OPEN, kernel)\n",
    "        \n",
    "        cv2.imshow(\"frame:\",frame)\n",
    "        cv2.imshow(\"background:\",background_gray)\n",
    "        cv2.imshow(\"background difference:\",difference2)\n",
    "        \n",
    "      \n",
    "        key=cv2.waitKey(1)\n",
    "        if key & 0xFF == ord('p'): #quit if key p is pressed\n",
    "            break\n",
    "    cap.release()\n",
    "    cv2.destroyAllWindows()\n",
    "except:\n",
    "    cap.release()\n",
    "    cv2.destroyAllWindows()"
   ]
  },
  {
   "cell_type": "code",
   "execution_count": null,
   "metadata": {},
   "outputs": [],
   "source": []
  }
 ],
 "metadata": {
  "kernelspec": {
   "display_name": "Python 3",
   "language": "python",
   "name": "python3"
  },
  "language_info": {
   "codemirror_mode": {
    "name": "ipython",
    "version": 3
   },
   "file_extension": ".py",
   "mimetype": "text/x-python",
   "name": "python",
   "nbconvert_exporter": "python",
   "pygments_lexer": "ipython3",
   "version": "3.6.10"
  }
 },
 "nbformat": 4,
 "nbformat_minor": 4
}
